{
 "cells": [
  {
   "cell_type": "code",
   "execution_count": 2,
   "metadata": {
    "collapsed": true
   },
   "outputs": [],
   "source": [
    "import urllib.request\n",
    "import os\n"
   ]
  },
  {
   "cell_type": "code",
   "execution_count": 46,
   "metadata": {
    "collapsed": true
   },
   "outputs": [],
   "source": [
    "def get_data(url):\n",
    "    try:\n",
    "        x = urllib.request.URLopener()\n",
    "        filename = url.rsplit('/', 1)[-1]        \n",
    "        if not os.path.isfile(filename):\n",
    "            x.retrieve(url, filename)\n",
    "            print(\"File downloading\")\n",
    "        else:\n",
    "            print(\"File already present\")\n",
    "    except urllib.error.URLError:\n",
    "        print(\"Invalid URL\")\n",
    "       "
   ]
  },
  {
   "cell_type": "code",
   "execution_count": 56,
   "metadata": {
    "collapsed": true
   },
   "outputs": [],
   "source": [
    "def delete_data(url):\n",
    "    data_name = url.rsplit('/', 1)[-1]\n",
    "    #only works on local machine\n",
    "    filename = os.path.join('/Users/anima/Documents/Software Engineering/Git files/', data_name)\n",
    "    print (filename)\n",
    "    if os.path.isfile(filename):\n",
    "        os.remove(filename)\n",
    "        print(\"File Deleted\")\n",
    "        return True\n",
    "    else:\n",
    "        print(\"File does not exist\")\n",
    "        return False\n"
   ]
  },
  {
   "cell_type": "code",
   "execution_count": 57,
   "metadata": {
    "collapsed": false
   },
   "outputs": [
    {
     "name": "stdout",
     "output_type": "stream",
     "text": [
      "/Users/anima/Documents/Software Engineering/Git files/4xy5-26gy.csv\n",
      "File does not exist\n"
     ]
    }
   ],
   "source": [
    "delete_data('https://data.seattle.gov/resource/4xy5-26gy.csv')\n",
    "\n"
   ]
  }
 ],
 "metadata": {
  "anaconda-cloud": {},
  "kernelspec": {
   "display_name": "Python [conda root]",
   "language": "python",
   "name": "conda-root-py"
  },
  "language_info": {
   "codemirror_mode": {
    "name": "ipython",
    "version": 3
   },
   "file_extension": ".py",
   "mimetype": "text/x-python",
   "name": "python",
   "nbconvert_exporter": "python",
   "pygments_lexer": "ipython3",
   "version": "3.5.2"
  }
 },
 "nbformat": 4,
 "nbformat_minor": 1
}
